{
 "cells": [
  {
   "cell_type": "markdown",
   "metadata": {},
   "source": [
    "# Website A/B Testing - Lab\n",
    "\n",
    "## Introduction\n",
    "\n",
    "In this lab, you'll get another chance to practice your skills at conducting a full A/B test analysis. It will also be a chance to practice your data exploration and processing skills! The scenario you'll be investigating is data collected from the homepage of a music app page for audacity.\n",
    "\n",
    "## Objectives\n",
    "\n",
    "You will be able to:\n",
    "* Analyze the data from a website A/B test to draw relevant conclusions\n",
    "* Explore and analyze web action data"
   ]
  },
  {
   "cell_type": "markdown",
   "metadata": {},
   "source": [
    "## Exploratory Analysis\n",
    "\n",
    "Start by loading in the dataset stored in the file 'homepage_actions.csv'. Then conduct an exploratory analysis to get familiar with the data."
   ]
  },
  {
   "cell_type": "markdown",
   "metadata": {},
   "source": [
    "> Hints:\n",
    "    * Start investigating the id column:\n",
    "        * How many viewers also clicked?\n",
    "        * Are there any anomalies with the data; did anyone click who didn't view?\n",
    "        * Is there any overlap between the control and experiment groups? \n",
    "            * If so, how do you plan to account for this in your experimental design?"
   ]
  },
  {
   "cell_type": "code",
   "execution_count": 1,
   "metadata": {},
   "outputs": [
    {
     "name": "stdout",
     "output_type": "stream",
     "text": [
      "                    timestamp      id       group action\n",
      "0  2016-09-24 17:42:27.839496  804196  experiment   view\n",
      "1  2016-09-24 19:19:03.542569  434745  experiment   view\n",
      "2  2016-09-24 19:36:00.944135  507599  experiment   view\n",
      "3  2016-09-24 19:59:02.646620  671993     control   view\n",
      "4  2016-09-24 20:26:14.466886  536734  experiment   view\n",
      "                  id\n",
      "count    8188.000000\n",
      "mean   564699.749878\n",
      "std    219085.845672\n",
      "min    182988.000000\n",
      "25%    373637.500000\n",
      "50%    566840.500000\n",
      "75%    758078.000000\n",
      "max    937217.000000\n",
      "1860\n",
      "Empty DataFrame\n",
      "Columns: [timestamp, id, group, action]\n",
      "Index: []\n",
      "                       timestamp      id       group action\n",
      "7     2016-09-24 20:57:20.336757  349125  experiment   view\n",
      "8     2016-09-24 20:58:01.948663  349125  experiment  click\n",
      "11    2016-09-24 21:05:15.348935  601714  experiment   view\n",
      "12    2016-09-24 21:06:27.553057  601714  experiment  click\n",
      "14    2016-09-24 21:29:19.766467  487634  experiment   view\n",
      "...                          ...     ...         ...    ...\n",
      "8167  2017-01-18 00:56:24.554729  344770  experiment  click\n",
      "8179  2017-01-18 08:53:50.910310  615849  experiment   view\n",
      "8180  2017-01-18 08:54:56.879682  615849  experiment  click\n",
      "8181  2017-01-18 09:07:37.661143  795585     control   view\n",
      "8182  2017-01-18 09:09:17.363917  795585     control  click\n",
      "\n",
      "[3720 rows x 4 columns]\n"
     ]
    }
   ],
   "source": [
    "#Your code here\n",
    "# Import necessary libraries\n",
    "import pandas as pd\n",
    "\n",
    "# Load the dataset\n",
    "data = pd.read_csv('homepage_actions.csv')\n",
    "\n",
    "# Check the first few rows of the dataset\n",
    "print(data.head())\n",
    "\n",
    "# Check the basic statistics of the dataset\n",
    "print(data.describe())\n",
    "\n",
    "# Investigate the id column\n",
    "# How many viewers also clicked?\n",
    "clicks = data[data['action'] == 'click']\n",
    "print(len(clicks))\n",
    "\n",
    "# Are there any anomalies with the data; did anyone click who didn't view?\n",
    "anomalies = data[(data['action'] == 'click') & (data['id'].isin(data[data['action'] == 'view']['id']) == False)]\n",
    "print(anomalies)\n",
    "\n",
    "# Is there any overlap between the control and experiment groups?\n",
    "overlap = data[data['id'].duplicated(keep=False)]\n",
    "print(overlap)\n"
   ]
  },
  {
   "cell_type": "markdown",
   "metadata": {},
   "source": [
    "## Conduct a Statistical Test\n",
    "\n",
    "Conduct a statistical test to determine whether the experimental homepage was more effective than that of the control group."
   ]
  },
  {
   "cell_type": "code",
   "execution_count": 2,
   "metadata": {},
   "outputs": [
    {
     "name": "stdout",
     "output_type": "stream",
     "text": [
      "Chi-squared p-value: 0.056537191086915774\n"
     ]
    }
   ],
   "source": [
    "#Your code here\n",
    "\n",
    "from scipy.stats import chi2_contingency\n",
    "\n",
    "# Create a contingency table\n",
    "contingency_table = pd.crosstab(data['group'], data['action'])\n",
    "\n",
    "# Perform a chi-squared test\n",
    "chi2, p, _, _ = chi2_contingency(contingency_table)\n",
    "\n",
    "# Check the p-value\n",
    "print(\"Chi-squared p-value:\", p)\n"
   ]
  },
  {
   "cell_type": "markdown",
   "metadata": {},
   "source": [
    "## Verifying Results\n",
    "\n",
    "One sensible formulation of the data to answer the hypothesis test above would be to create a binary variable representing each individual in the experiment and control group. This binary variable would represent whether or not that individual clicked on the homepage; 1 for they did and 0 if they did not. \n",
    "\n",
    "The variance for the number of successes in a sample of a binomial variable with n observations is given by:\n",
    "\n",
    "## $n\\bullet p (1-p)$\n",
    "\n",
    "Given this, perform 3 steps to verify the results of your statistical test:\n",
    "1. Calculate the expected number of clicks for the experiment group, if it had the same click-through rate as that of the control group. \n",
    "2. Calculate the number of standard deviations that the actual number of clicks was from this estimate. \n",
    "3. Finally, calculate a p-value using the normal distribution based on this z-score."
   ]
  },
  {
   "cell_type": "markdown",
   "metadata": {},
   "source": [
    "### Step 1:\n",
    "Calculate the expected number of clicks for the experiment group, if it had the same click-through rate as that of the control group. "
   ]
  },
  {
   "cell_type": "code",
   "execution_count": 8,
   "metadata": {},
   "outputs": [
    {
     "data": {
      "text/plain": [
       "857.6848030018762"
      ]
     },
     "execution_count": 8,
     "metadata": {},
     "output_type": "execute_result"
    }
   ],
   "source": [
    "#Your code here\n",
    "control_group = data[data['group'] == 'control']\n",
    "experiment_group = data[data['group'] == 'experiment']\n",
    "\n",
    "control_click_rate = len(control_group[control_group['action'] == 'click']) / len(control_group)\n",
    "expected_experiment_clicks = len(experiment_group) * control_click_rate\n",
    "\n",
    "expected_experiment_clicks\n"
   ]
  },
  {
   "cell_type": "markdown",
   "metadata": {},
   "source": [
    "### Step 2:\n",
    "Calculate the number of standard deviations that the actual number of clicks was from this estimate."
   ]
  },
  {
   "cell_type": "code",
   "execution_count": 9,
   "metadata": {},
   "outputs": [
    {
     "data": {
      "text/plain": [
       "2.71607302278784"
      ]
     },
     "execution_count": 9,
     "metadata": {},
     "output_type": "execute_result"
    }
   ],
   "source": [
    "#Your code here\n",
    "import math\n",
    "\n",
    "actual_experiment_clicks = len(experiment_group[experiment_group['action'] == 'click'])\n",
    "variance = len(experiment_group) * control_click_rate * (1 - control_click_rate)\n",
    "std_dev = math.sqrt(variance)\n",
    "\n",
    "z_score = (actual_experiment_clicks - expected_experiment_clicks) / std_dev\n",
    "\n",
    "z_score\n"
   ]
  },
  {
   "cell_type": "markdown",
   "metadata": {},
   "source": [
    "### Step 3: \n",
    "Finally, calculate a p-value using the normal distribution based on this z-score."
   ]
  },
  {
   "cell_type": "code",
   "execution_count": 10,
   "metadata": {},
   "outputs": [
    {
     "data": {
      "text/plain": [
       "0.0066061345518531045"
      ]
     },
     "execution_count": 10,
     "metadata": {},
     "output_type": "execute_result"
    }
   ],
   "source": [
    "#Your code here\n",
    "from scipy.stats import norm\n",
    "\n",
    "p_value = 2 * (1 - norm.cdf(abs(z_score)))  # Two-tailed test\n",
    "\n",
    "p_value"
   ]
  },
  {
   "cell_type": "markdown",
   "metadata": {},
   "source": [
    "### Analysis:\n",
    "\n",
    "Does this result roughly match that of the previous statistical test?\n",
    "\n",
    "> Comment: **Your analysis here**"
   ]
  },
  {
   "cell_type": "markdown",
   "metadata": {},
   "source": [
    "## Summary\n",
    "\n",
    "In this lab, you continued to get more practice designing and conducting AB tests. This required additional work preprocessing and formulating the initial problem in a suitable manner. Additionally, you also saw how to verify results, strengthening your knowledge of binomial variables, and reviewing initial statistical concepts of the central limit theorem, standard deviation, z-scores, and their accompanying p-values."
   ]
  }
 ],
 "metadata": {
  "kernelspec": {
   "display_name": "Python 3",
   "language": "python",
   "name": "python3"
  },
  "language_info": {
   "codemirror_mode": {
    "name": "ipython",
    "version": 3
   },
   "file_extension": ".py",
   "mimetype": "text/x-python",
   "name": "python",
   "nbconvert_exporter": "python",
   "pygments_lexer": "ipython3",
   "version": "3.8.5"
  }
 },
 "nbformat": 4,
 "nbformat_minor": 2
}
